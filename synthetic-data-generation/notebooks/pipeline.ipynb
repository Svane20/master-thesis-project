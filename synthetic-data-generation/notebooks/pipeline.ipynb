{
 "cells": [
  {
   "metadata": {},
   "cell_type": "markdown",
   "source": "# Blender - Synthetic Data Generation",
   "id": "8d775bc76be544ca"
  },
  {
   "metadata": {},
   "cell_type": "markdown",
   "source": "## Blender installation + Code download\n",
   "id": "4862828419e54a87"
  },
  {
   "metadata": {},
   "cell_type": "markdown",
   "source": "### Blender installation",
   "id": "7230a9b73596b4bb"
  },
  {
   "metadata": {},
   "cell_type": "code",
   "outputs": [],
   "execution_count": null,
   "source": [
    "# Install Blender\n",
    "!apt-get update && apt-get install -y blender"
   ],
   "id": "1b9a22272d6c45ce"
  },
  {
   "metadata": {},
   "cell_type": "markdown",
   "source": "### Code download",
   "id": "d71c105109ee54d7"
  },
  {
   "metadata": {},
   "cell_type": "code",
   "outputs": [],
   "execution_count": null,
   "source": [
    "# Clone the repository\n",
    "!git clone https://github.com/Svane20/master-thesis-project.git\n",
    "\n",
    "# Copy all contents from synthetic-data-generation (including hidden files) to the current directory\n",
    "!cp -r master-thesis-project/synthetic-data-generation/. .\n",
    "\n",
    "# Remove the cloned repository directory\n",
    "!rm -rf master-thesis-project"
   ],
   "id": "80c593b7e36a5173"
  },
  {
   "metadata": {},
   "cell_type": "code",
   "outputs": [],
   "execution_count": null,
   "source": [
    "# Install requirements\n",
    "!pip install -r requirements.txt"
   ],
   "id": "b0b4a5969d4a66db"
  },
  {
   "metadata": {},
   "cell_type": "code",
   "outputs": [],
   "execution_count": null,
   "source": [
    "from google.colab import drive\n",
    "\n",
    "# Connect drive\n",
    "drive.mount('/content/drive')"
   ],
   "id": "bedd25bf85268a1a"
  },
  {
   "metadata": {},
   "cell_type": "markdown",
   "source": "## Pipeline",
   "id": "e561e2246f3b4899"
  },
  {
   "metadata": {},
   "cell_type": "code",
   "outputs": [],
   "execution_count": null,
   "source": "!python main.py --is_colab",
   "id": "5771ab630fba437"
  }
 ],
 "metadata": {
  "kernelspec": {
   "display_name": "Python 3",
   "language": "python",
   "name": "python3"
  },
  "language_info": {
   "codemirror_mode": {
    "name": "ipython",
    "version": 2
   },
   "file_extension": ".py",
   "mimetype": "text/x-python",
   "name": "python",
   "nbconvert_exporter": "python",
   "pygments_lexer": "ipython2",
   "version": "2.7.6"
  }
 },
 "nbformat": 4,
 "nbformat_minor": 5
}
